{
 "cells": [
  {
   "cell_type": "code",
   "execution_count": 2,
   "id": "a1bc53be",
   "metadata": {},
   "outputs": [
    {
     "data": {
      "text/plain": [
       "{'platform': 'Windows',\n",
       " 'platform-release': '10',\n",
       " 'platform-version': '10.0.19041',\n",
       " 'architecture': 'AMD64',\n",
       " 'hostname': 'NYP-SIT-L307-JS',\n",
       " 'ip-address': '172.29.128.1',\n",
       " 'mac-address': '98:90:96:d9:d1:a4',\n",
       " 'processor': 'Intel64 Family 6 Model 60 Stepping 3, GenuineIntel',\n",
       " 'ram': '32 GB'}"
      ]
     },
     "execution_count": 2,
     "metadata": {},
     "output_type": "execute_result"
    }
   ],
   "source": [
    "# import platform,socket,re,uuid,json,psutil,logging\n",
    "\n",
    "# def getSystemInfo():\n",
    "#     try:\n",
    "#         info={}\n",
    "#         info['platform']=platform.system()\n",
    "#         info['platform-release']=platform.release()\n",
    "#         info['platform-version']=platform.version()\n",
    "#         info['architecture']=platform.machine()\n",
    "#         info['hostname']=socket.gethostname()\n",
    "#         info['ip-address']=socket.gethostbyname(socket.gethostname())\n",
    "#         info['mac-address']=':'.join(re.findall('..', '%012x' % uuid.getnode()))\n",
    "#         info['processor']=platform.processor()\n",
    "#         info['ram']=str(round(psutil.virtual_memory().total / (1024.0 **3)))+\" GB\"\n",
    "#         return json.dumps(info)\n",
    "#     except Exception as e:\n",
    "#         logging.exception(e)\n",
    "\n",
    "# json.loads(getSystemInfo())"
   ]
  },
  {
   "cell_type": "code",
   "execution_count": 9,
   "id": "d882d330",
   "metadata": {},
   "outputs": [],
   "source": [
    "import psutil\n",
    "import platform\n",
    "from datetime import datetime\n",
    "import cpuinfo\n",
    "import socket\n",
    "import uuid\n",
    "import re\n",
    "\n",
    "\n",
    "def get_size(bytes, suffix=\"B\"):\n",
    "    \"\"\"\n",
    "    Scale bytes to its proper format\n",
    "    e.g:\n",
    "        1253656 => '1.20MB'\n",
    "        1253656678 => '1.17GB'\n",
    "    \"\"\"\n",
    "    factor = 1024\n",
    "    for unit in [\"\", \"K\", \"M\", \"G\", \"T\", \"P\"]:\n",
    "        if bytes < factor:\n",
    "            return f\"{bytes:.2f}{unit}{suffix}\"\n",
    "        bytes /= factor\n",
    "\n",
    "def System_information():\n",
    "    print(\"=\"*40, \"System Information\", \"=\"*40)\n",
    "    uname = platform.uname()\n",
    "    print(f\"System: {uname.system}\")\n",
    "    print(f\"Node Name: {uname.node}\")\n",
    "    print(f\"Release: {uname.release}\")\n",
    "    print(f\"Version: {uname.version}\")\n",
    "    print(f\"Machine: {uname.machine}\")\n",
    "    print(f\"Processor: {uname.processor}\")\n",
    "    print(f\"Processor: {cpuinfo.get_cpu_info()['brand_raw']}\")\n",
    "    print(f\"Host Name: {socket.gethostname()}\")\n",
    "    print(f\"Ip-Address: {socket.gethostbyname(socket.gethostname())}\")\n",
    "    print(f\"Mac-Address: {':'.join(re.findall('..', '%012x' % uuid.getnode()))}\")\n",
    "\n",
    "\n",
    "    # Boot Time\n",
    "    print(\"=\"*40, \"Boot Time\", \"=\"*40)\n",
    "    boot_time_timestamp = psutil.boot_time()\n",
    "    bt = datetime.fromtimestamp(boot_time_timestamp)\n",
    "    print(f\"Boot Time: {bt.year}/{bt.month}/{bt.day} {bt.hour}:{bt.minute}:{bt.second}\")\n",
    "\n",
    "\n",
    "    # print CPU information\n",
    "    print(\"=\"*40, \"CPU Info\", \"=\"*40)\n",
    "    # number of cores\n",
    "    print(\"Physical cores:\", psutil.cpu_count(logical=False))\n",
    "    print(\"Total cores:\", psutil.cpu_count(logical=True))\n",
    "    # CPU frequencies\n",
    "    cpufreq = psutil.cpu_freq()\n",
    "    print(f\"Max Frequency: {cpufreq.max:.2f}Mhz\")\n",
    "    print(f\"Min Frequency: {cpufreq.min:.2f}Mhz\")\n",
    "    print(f\"Current Frequency: {cpufreq.current:.2f}Mhz\")\n",
    "    # CPU usage\n",
    "    print(\"CPU Usage Per Core:\")\n",
    "    for i, percentage in enumerate(psutil.cpu_percent(percpu=True, interval=1)):\n",
    "        print(f\"Core {i}: {percentage}%\")\n",
    "    print(f\"Total CPU Usage: {psutil.cpu_percent()}%\")\n",
    "\n",
    "\n",
    "    # Memory Information\n",
    "    print(\"=\"*40, \"Memory Information\", \"=\"*40)\n",
    "    # get the memory details\n",
    "    svmem = psutil.virtual_memory()\n",
    "    print(f\"Total: {get_size(svmem.total)}\")\n",
    "    print(f\"Available: {get_size(svmem.available)}\")\n",
    "    print(f\"Used: {get_size(svmem.used)}\")\n",
    "    print(f\"Percentage: {svmem.percent}%\")\n",
    "\n",
    "\n",
    "\n",
    "    print(\"=\"*20, \"SWAP\", \"=\"*20)\n",
    "    # get the swap memory details (if exists)\n",
    "    swap = psutil.swap_memory()\n",
    "    print(f\"Total: {get_size(swap.total)}\")\n",
    "    print(f\"Free: {get_size(swap.free)}\")\n",
    "    print(f\"Used: {get_size(swap.used)}\")\n",
    "    print(f\"Percentage: {swap.percent}%\")\n",
    "\n",
    "\n",
    "\n",
    "    # Disk Information\n",
    "    print(\"=\"*40, \"Disk Information\", \"=\"*40)\n",
    "    print(\"Partitions and Usage:\")\n",
    "    # get all disk partitions\n",
    "    partitions = psutil.disk_partitions()\n",
    "    for partition in partitions:\n",
    "        print(f\"=== Device: {partition.device} ===\")\n",
    "        print(f\"  Mountpoint: {partition.mountpoint}\")\n",
    "        print(f\"  File system type: {partition.fstype}\")\n",
    "        try:\n",
    "            partition_usage = psutil.disk_usage(partition.mountpoint)\n",
    "        except PermissionError:\n",
    "            # this can be catched due to the disk that\n",
    "            # isn't ready\n",
    "            continue\n",
    "        print(f\"  Total Size: {get_size(partition_usage.total)}\")\n",
    "        print(f\"  Used: {get_size(partition_usage.used)}\")\n",
    "        print(f\"  Free: {get_size(partition_usage.free)}\")\n",
    "        print(f\"  Percentage: {partition_usage.percent}%\")\n",
    "    # get IO statistics since boot\n",
    "    disk_io = psutil.disk_io_counters()\n",
    "    print(f\"Total read: {get_size(disk_io.read_bytes)}\")\n",
    "    print(f\"Total write: {get_size(disk_io.write_bytes)}\")\n",
    "\n",
    "    ## Network information\n",
    "    print(\"=\"*40, \"Network Information\", \"=\"*40)\n",
    "    ## get all network interfaces (virtual and physical)\n",
    "    if_addrs = psutil.net_if_addrs()\n",
    "    for interface_name, interface_addresses in if_addrs.items():\n",
    "        for address in interface_addresses:\n",
    "            print(f\"=== Interface: {interface_name} ===\")\n",
    "            if str(address.family) == 'AddressFamily.AF_INET':\n",
    "                print(f\"  IP Address: {address.address}\")\n",
    "                print(f\"  Netmask: {address.netmask}\")\n",
    "                print(f\"  Broadcast IP: {address.broadcast}\")\n",
    "            elif str(address.family) == 'AddressFamily.AF_PACKET':\n",
    "                print(f\"  MAC Address: {address.address}\")\n",
    "                print(f\"  Netmask: {address.netmask}\")\n",
    "                print(f\"  Broadcast MAC: {address.broadcast}\")\n",
    "    ##get IO statistics since boot\n",
    "    net_io = psutil.net_io_counters()\n",
    "    print(f\"Total Bytes Sent: {get_size(net_io.bytes_sent)}\")\n",
    "    print(f\"Total Bytes Received: {get_size(net_io.bytes_recv)}\")"
   ]
  },
  {
   "cell_type": "code",
   "execution_count": 8,
   "id": "f0089bc8",
   "metadata": {},
   "outputs": [
    {
     "data": {
      "application/vnd.jupyter.widget-view+json": {
       "model_id": "5f0ab2013c594c03943464252aea36bc",
       "version_major": 2,
       "version_minor": 0
      },
      "text/plain": [
       "Button(description='Click Me!', style=ButtonStyle())"
      ]
     },
     "metadata": {},
     "output_type": "display_data"
    },
    {
     "data": {
      "application/vnd.jupyter.widget-view+json": {
       "model_id": "36104141ebb54ab3bbeac34a0804912c",
       "version_major": 2,
       "version_minor": 0
      },
      "text/plain": [
       "Output()"
      ]
     },
     "metadata": {},
     "output_type": "display_data"
    }
   ],
   "source": [
    "from IPython.display import display\n",
    "import ipywidgets as widgets\n",
    "\n",
    "button = widgets.Button(description=\"Click Me!\")\n",
    "output = widgets.Output()\n",
    "\n",
    "display(button, output)\n",
    "\n",
    "def on_button_clicked(b):\n",
    "    with output:\n",
    "        display(System_information())\n",
    "\n",
    "button.on_click(on_button_clicked)"
   ]
  }
 ],
 "metadata": {
  "kernelspec": {
   "display_name": "Python 3 (ipykernel)",
   "language": "python",
   "name": "python3"
  },
  "language_info": {
   "codemirror_mode": {
    "name": "ipython",
    "version": 3
   },
   "file_extension": ".py",
   "mimetype": "text/x-python",
   "name": "python",
   "nbconvert_exporter": "python",
   "pygments_lexer": "ipython3",
   "version": "3.8.2"
  }
 },
 "nbformat": 4,
 "nbformat_minor": 5
}
